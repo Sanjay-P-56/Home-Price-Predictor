{
 "cells": [
  {
   "cell_type": "code",
   "execution_count": null,
   "id": "07745269",
   "metadata": {},
   "outputs": [],
   "source": [
    "import numpy as np\n",
    "import pandas as pd\n",
    "import pickle\n",
    "import sklearn.datasets\n",
    "from sklearn.preprocessing import LabelEncoder\n",
    "from sklearn.model_selection import train_test_split\n",
    "from sklearn import metrics"
   ]
  },
  {
   "cell_type": "code",
   "execution_count": null,
   "id": "84fa6d8a",
   "metadata": {},
   "outputs": [],
   "source": [
    "house_dataset=pd.read_csv(\"Bengaluru_House_Data.csv\")"
   ]
  },
  {
   "cell_type": "code",
   "execution_count": null,
   "id": "8f3c89fd",
   "metadata": {},
   "outputs": [],
   "source": [
    "house_dataset.head()"
   ]
  },
  {
   "cell_type": "code",
   "execution_count": null,
   "id": "d93eda76",
   "metadata": {},
   "outputs": [],
   "source": [
    "house_dataset=house_dataset.drop(['area_type','availability','society'], axis=1)"
   ]
  },
  {
   "cell_type": "code",
   "execution_count": null,
   "id": "a9be167d",
   "metadata": {},
   "outputs": [],
   "source": [
    "house_dataset.head()"
   ]
  },
  {
   "cell_type": "code",
   "execution_count": null,
   "id": "7ba16756",
   "metadata": {},
   "outputs": [],
   "source": [
    "house_dataset.shape"
   ]
  },
  {
   "cell_type": "code",
   "execution_count": null,
   "id": "33f37369",
   "metadata": {},
   "outputs": [],
   "source": [
    "house_dataset.isnull().sum()"
   ]
  },
  {
   "cell_type": "code",
   "execution_count": null,
   "id": "3139238a",
   "metadata": {},
   "outputs": [],
   "source": [
    "house_dataset = house_dataset.dropna()\n",
    "house_dataset.isnull().sum()"
   ]
  },
  {
   "cell_type": "code",
   "execution_count": null,
   "id": "247e8dc5",
   "metadata": {},
   "outputs": [],
   "source": [
    "house_dataset.describe()"
   ]
  },
  {
   "cell_type": "code",
   "execution_count": null,
   "id": "bcfab81d",
   "metadata": {},
   "outputs": [],
   "source": [
    "# 1. Clean 'size' column\n",
    "house_dataset['size'] = house_dataset['size'].astype(str).str.extract('(\\d+)').astype(float)\n",
    "\n",
    "# 2. Clean 'total_sqft' column\n",
    "def convert_sqft_to_num(x):\n",
    "    try:\n",
    "        tokens = x.split('-')\n",
    "        if len(tokens) == 2:\n",
    "            return (float(tokens[0]) + float(tokens[1])) / 2\n",
    "        return float(x)\n",
    "    except:\n",
    "        return None\n",
    "\n",
    "house_dataset['total_sqft'] = house_dataset['total_sqft'].apply(convert_sqft_to_num)\n",
    "\n",
    "# 3. Drop rows with remaining nulls (after conversion)\n",
    "house_dataset.dropna(inplace=True)\n",
    "\n",
    "house_dataset['location'] = house_dataset['location'].fillna('Unknown')\n",
    "\n",
    "# Convert to numeric labels\n",
    "label_encoder = LabelEncoder()\n",
    "house_dataset['location'] = label_encoder.fit_transform(house_dataset['location'])\n"
   ]
  },
  {
   "cell_type": "code",
   "execution_count": null,
   "id": "ab337b55",
   "metadata": {},
   "outputs": [],
   "source": [
    "with open('location_label_encoder.pkl', 'wb') as f:\n",
    "    pickle.dump(label_encoder, f)"
   ]
  },
  {
   "cell_type": "code",
   "execution_count": null,
   "id": "6dfdd9e2",
   "metadata": {},
   "outputs": [],
   "source": [
    "X=house_dataset.drop(['price'], axis=1)\n",
    "Y=house_dataset['price']"
   ]
  },
  {
   "cell_type": "code",
   "execution_count": null,
   "id": "cf70b537",
   "metadata": {},
   "outputs": [],
   "source": [
    "print(X)\n",
    "print(Y)"
   ]
  },
  {
   "cell_type": "code",
   "execution_count": null,
   "id": "00fc5a80",
   "metadata": {},
   "outputs": [],
   "source": [
    "X.head()"
   ]
  },
  {
   "cell_type": "code",
   "execution_count": null,
   "id": "71b6deb6",
   "metadata": {},
   "outputs": [],
   "source": [
    "X_train, X_test, Y_train, Y_test =train_test_split(X,Y,test_size=0.2,random_state=45)"
   ]
  },
  {
   "cell_type": "code",
   "execution_count": null,
   "id": "cacc926a",
   "metadata": {},
   "outputs": [],
   "source": [
    "print(X.shape,X_train.shape, X_test.shape)"
   ]
  },
  {
   "cell_type": "code",
   "execution_count": null,
   "id": "3485a9e9",
   "metadata": {},
   "outputs": [],
   "source": [
    "#model=XGBRegressor()\n",
    "from sklearn.tree import DecisionTreeRegressor\n",
    "model = DecisionTreeRegressor()"
   ]
  },
  {
   "cell_type": "code",
   "execution_count": null,
   "id": "d12ea40d",
   "metadata": {},
   "outputs": [],
   "source": [
    "model.fit(X_train, Y_train)"
   ]
  },
  {
   "cell_type": "code",
   "execution_count": null,
   "id": "035d3459",
   "metadata": {},
   "outputs": [],
   "source": [
    "train_predict=model.predict(X_train)\n"
   ]
  },
  {
   "cell_type": "code",
   "execution_count": null,
   "id": "1591c207",
   "metadata": {},
   "outputs": [],
   "source": [
    "print(train_predict)"
   ]
  },
  {
   "cell_type": "code",
   "execution_count": null,
   "id": "8e718d72",
   "metadata": {},
   "outputs": [],
   "source": [
    "#R square error\n",
    "score1=metrics.r2_score(Y_train,train_predict)\n",
    "#mean absolute error\n",
    "score2=metrics.mean_absolute_error(Y_train,train_predict)\n",
    "print(\"R square error:\", score1)\n",
    "print(\"Mean Absolute error:\", score2)"
   ]
  },
  {
   "cell_type": "code",
   "execution_count": null,
   "id": "aa09714b",
   "metadata": {},
   "outputs": [],
   "source": [
    "test_predict=model.predict(X_test)\n"
   ]
  },
  {
   "cell_type": "code",
   "execution_count": null,
   "id": "d804583f",
   "metadata": {},
   "outputs": [],
   "source": [
    "score1=metrics.r2_score(Y_test,test_predict)\n",
    "score2=metrics.mean_absolute_error(Y_test,test_predict)\n",
    "print(\"R square error:\", score1)\n",
    "print(\"Mean Absolute error:\", score2)"
   ]
  },
  {
   "cell_type": "code",
   "execution_count": null,
   "id": "f0afeb3d",
   "metadata": {},
   "outputs": [],
   "source": [
    "# Load the encoder\n",
    "with open('location_label_encoder.pkl', 'rb') as f:\n",
    "    label_encoder = pickle.load(f)\n",
    "\n"
   ]
  },
  {
   "cell_type": "code",
   "execution_count": null,
   "id": "926c7d73",
   "metadata": {},
   "outputs": [],
   "source": [
    "# Sample input for prediction (make sure feature names and order match your training data)\n",
    "sample_data = {\n",
    "    'location': label_encoder.transform(['Bisuvanahalli'])[0],\n",
    "    'size': 3,\n",
    "    'total_sqft': 1180,\n",
    "    'bath': 3,\n",
    "    'balcony': 2\n",
    "}\n",
    "\n",
    "\n",
    "# Convert to DataFrame (shape must match training data used for the model)\n",
    "sample_df = pd.DataFrame([sample_data])\n",
    "\n",
    "# Predict the price\n",
    "predicted_price = model.predict(sample_df)\n",
    "print(f\"Predicted house price: ₹{predicted_price[0]:,.2f}\")\n"
   ]
  },
  {
   "cell_type": "code",
   "execution_count": null,
   "id": "df9c93d7",
   "metadata": {},
   "outputs": [],
   "source": [
    "pickle.dump(model,open('mlmodel.pkl','wb'))\n",
    "mlmode=pickle.load(open('mlmodel.pkl','rb'))"
   ]
  },
  {
   "cell_type": "code",
   "execution_count": null,
   "id": "58f2379c",
   "metadata": {},
   "outputs": [],
   "source": []
  }
 ],
 "metadata": {
  "kernelspec": {
   "display_name": "Python 3",
   "language": "python",
   "name": "python3"
  },
  "language_info": {
   "codemirror_mode": {
    "name": "ipython",
    "version": 3
   },
   "file_extension": ".py",
   "mimetype": "text/x-python",
   "name": "python",
   "nbconvert_exporter": "python",
   "pygments_lexer": "ipython3",
   "version": "3.11.9"
  }
 },
 "nbformat": 4,
 "nbformat_minor": 5
}
